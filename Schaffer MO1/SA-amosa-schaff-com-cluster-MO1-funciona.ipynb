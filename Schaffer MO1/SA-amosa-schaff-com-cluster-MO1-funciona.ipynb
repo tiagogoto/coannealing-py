{
 "cells": [
  {
   "cell_type": "code",
   "execution_count": 22,
   "metadata": {},
   "outputs": [],
   "source": [
    "import numpy as np\n",
    "import time\n",
    "import matplotlib.pyplot as plt\n",
    "start = time.time()"
   ]
  },
  {
   "cell_type": "code",
   "execution_count": 23,
   "metadata": {},
   "outputs": [],
   "source": [
    "def f1(x):\n",
    "    obj=x**2\n",
    "    return obj\n",
    "\n",
    "def f2(x):\n",
    "    obj=(x-2)**2\n",
    "    return obj\n",
    "\n",
    "def deltadom_a_b(a, b,R1,R2):\n",
    "    if f1(a) != f1(b) and f2(a)!=f2(b):\n",
    "        aux=abs(f1(a)-f1(b))/R1*abs(f2(a)-f2(b))/R2\n",
    "    return aux"
   ]
  },
  {
   "cell_type": "code",
   "execution_count": 24,
   "metadata": {},
   "outputs": [],
   "source": [
    "def clust(tamanho, ficheiro):\n",
    "    while ficheiro.size>tamanho:\n",
    "        a=np.random.choice(np.arange(ficheiro.size))\n",
    "        mvalue=300\n",
    "        for i in range(len(ficheiro)):\n",
    "            dif = abs(ficheiro[a]-ficheiro[i])\n",
    "            if dif !=0 and dif<mvalue:\n",
    "                mvalue=dif\n",
    "                mindex=i\n",
    "        ficheiro=np.delete(ficheiro, mindex)\n",
    "    return ficheiro"
   ]
  },
  {
   "cell_type": "code",
   "execution_count": 25,
   "metadata": {},
   "outputs": [],
   "source": [
    "#inicialização das variáveis\n",
    "Tmax=1000\n",
    "Tmin=0.1\n",
    "HL=50\n",
    "SL=100\n",
    "N=50 #número domain search \n",
    "alpha= 0.85 # deaimento da temperatura ou fator de resfriamento\n",
    "temp=Tmax\n",
    "\n",
    "#solução inicial \n",
    "z_i=10\n",
    "archive =np.random.rand(SL)*z_i\n",
    "x_i=np.random.choice(archive)\n",
    "\n",
    "C=1  #fator mudança de direção\n",
    "phi=0.1  #fator de redução\n",
    "# variaveis contadores \n",
    "cont1=0\n",
    "cont2=0\n",
    "cont3=0"
   ]
  },
  {
   "cell_type": "code",
   "execution_count": 26,
   "metadata": {},
   "outputs": [
    {
     "ename": "IndexError",
     "evalue": "index 53 is out of bounds for axis 0 with size 53",
     "output_type": "error",
     "traceback": [
      "\u001b[0;31m---------------------------------------------------------------------------\u001b[0m",
      "\u001b[0;31mIndexError\u001b[0m                                Traceback (most recent call last)",
      "\u001b[0;32m<timed exec>\u001b[0m in \u001b[0;36m<module>\u001b[0;34m\u001b[0m\n",
      "\u001b[0;31mIndexError\u001b[0m: index 53 is out of bounds for axis 0 with size 53"
     ]
    }
   ],
   "source": [
    "%%time\n",
    "while(temp>Tmin):\n",
    "    for o in range(N):\n",
    "        max1=max(f1(archive))\n",
    "        min1=min(f1(archive))\n",
    "        max2=max(f2(archive))\n",
    "        min2=min(f2(archive))\n",
    "        R1=max1-min1\n",
    "        R2=max2-min2\n",
    "        deldom_k_j=0\n",
    "        #reset dos contadores\n",
    "        cont1 = 0\n",
    "        cont2=0\n",
    "        cont3 = 0\n",
    "        #geração da nova solução\n",
    "        x_j=x_i+C*phi*np.random.rand()\n",
    "        #função para obter as soluções de dominancia\n",
    "        k=np.empty([0],dtype=float)\n",
    "        for i in range(1,archive.size):\n",
    "            if f1(archive[i])<=f1(x_j) and f2(archive[i])<=f2(x_j): #neste caso o archive domina o novo ponto\n",
    "                cont1=cont1+1\n",
    "                k=np.append(k,archive[i-1])\n",
    "            elif f1(archive[i-1])<=f1(x_j) or f2(archive[i])<=f2(x_j):\n",
    "                cont3=cont3+1\n",
    "            else:\n",
    "                cont2=cont2+1\n",
    "#####################################################################################################\n",
    "#####################  caso 1 #######################################################################\n",
    "        if (f1(x_i)<f1(x_j) and f2(x_i)<f2(x_j)):\n",
    "            #print(Fore.RED,\"A solução atual domina a solução nova\")\n",
    "            deltadom_i_j=deltadom_a_b(x_i, x_j, R1, R2)\n",
    "            deldom_k_j=0\n",
    "            for i in range(k.size):\n",
    "                deldom_k_j=deldom_k_j+deltadom_a_b(k[i],x_j, R1, R2)\n",
    "            deltadom_avg=(deldom_k_j+deltadom_i_j)/(k.size+1)\n",
    "            prob=1/(1+np.exp(deltadom_avg*temp))\n",
    "            p=np.random.rand()\n",
    "            if p<prob:\n",
    "                x_i=x_j  #a solução nova é atribuída ao corrente.\n",
    "                C=1\n",
    "                #print(Fore.BLACK, \"a corrente agora é a solução nova\")\n",
    "            else:\n",
    "                x_i=x_i\n",
    "                C=-1\n",
    "        ################################################################################################\n",
    "        ################  caso 2 #######################################################################\n",
    "        elif (f1(x_i)<f1(x_j) or f2(x_i)<f2(x_j)):\n",
    "            if (k.size>=1):\n",
    "                for i in range(k.size):\n",
    "                    deltadom_avg=deltadom_a_b(k[i],x_j,R1,R2)/(k.size)\n",
    "                prob=1/(1+np.exp(deltadom_avg*temp))\n",
    "                p=np.random.rand()\n",
    "                if p<prob:\n",
    "                    x_i=x_j\n",
    "                    C=1\n",
    "                else:\n",
    "                    x_i=x_i\n",
    "                    C=-1\n",
    "            elif (cont3>0):  #as soluções do arquivo não domina e tabém não é dominado\n",
    "                #print(Fore.BLUE, \"as soluções do arquivo não domina e tabém não é dominado\")\n",
    "                x_i=x_j\n",
    "                archive=np.append(archive,x_j)\n",
    "                if archive.size>SL:\n",
    "                    archive=clust(HL,archive)\n",
    "                #clustering algorítimo \n",
    "            else: # a solução nova domina os pontos k\n",
    "                #print(Fore.BLUE, \"A solução nova domina os pontos k\")\n",
    "                x_i=x_j\n",
    "                archive=np.append(archive,x_j)\n",
    "                for i in range(archive.size):\n",
    "                    if f1(x_j)<f1(archive[i]) and f2(x_j)<f2(archive[i]):\n",
    "                        archive=np.delete(archive, i)\n",
    "                #print(Fore.GREEN, \"O tamanho do arquivo\", archive.size)\n",
    "        ################# caso 3##########################################################################\n",
    "        else:\n",
    "            #print(Fore.RED, \"A solução nova domína a solução atual\")# caso 3 (a) as soluções de k domina o novo ponto\n",
    "            if k.size>=1: \n",
    "                #### necessário melhorar essa parte --- 1 check\n",
    "                aux_d=np.empty([0])\n",
    "                aux_d=(abs(f1(x_j)-f1(k))/R1)*((abs(f2(x_j)-f2(k))/R2))\n",
    "                menor=np.amin(aux_d)\n",
    "                posi=np.argmin(aux_d)\n",
    "                #for i in range(1,k.size):\n",
    "                 #   aux_d=(f1(x_j)-f1(k[i])/R1)*((f2(x_j)-f2(k[i])/R2))\n",
    "                      #  if aux_d<deltadom_min:\n",
    "                           #     deltadom_min=aux_d\n",
    "                            #    posi=i\n",
    "                            #else:\n",
    "                #   deltadom_min=deltadom_min\n",
    "                prob=1/(1+np.exp(menor))\n",
    "                #print(prob)\n",
    "                if np.random.rand()<prob:\n",
    "                    x_i=k[posi]\n",
    "                else:\n",
    "                    x_i=x_j\n",
    "            elif cont3>=1 and k.size==0 and cont2 == 0:  ###############  caso 3 (b) o novo ponto não domina e nem é dominado pelo arquivo\n",
    "                archive=np.append(archive, x_j)\n",
    "                for i in range(archive.size):\n",
    "                    if x_i == archive[i]:\n",
    "                        archive=np.delete(archive, i)\n",
    "                    elif archive.size>SL:\n",
    "                        archive=clust(HL,archive)\n",
    "                x_i=x_j   \n",
    "            else: ###############   caso 3 (c) Quando \n",
    "                x_i=x_j\n",
    "                archive=np.append(archive,x_j)\n",
    "                #print(\"CAso 3 (C)\")\n",
    "                contador=0\n",
    "                while(contador < archive.size):\n",
    "                    if f1(x_j)<f1(archive[contador]) and f2(x_j)<f2(archive[contador]):\n",
    "                        archive=np.delete(archive, contador)\n",
    "                        contador=contador+1\n",
    "                    else:\n",
    "                        contador=contador+1\n",
    "        #print(k.size)\n",
    "    temp=temp*alpha\n",
    "if archive.size>SL:\n",
    "    archive=clust(HL,archive)"
   ]
  },
  {
   "cell_type": "code",
   "execution_count": 31,
   "metadata": {},
   "outputs": [
    {
     "data": {
      "image/png": "[encoded data removed]",
      "text/plain": [
       "<Figure size 432x288 with 1 Axes>"
      ]
     },
     "metadata": {
      "needs_background": "light"
     },
     "output_type": "display_data"
    }
   ],
   "source": [
    "xg=np.linspace(-0.5, 2.5)\n",
    "#plt.plot(f1(xg),f2(xg), color='b',linewidth=1)\n",
    "plt.grid(b=None, color='grey', which='major', axis='both')\n",
    "plt.scatter(f1(archive),f2(archive),color='r',alpha=0.6)\n",
    "plt.xlabel(\"f_1(x,y)\", fontsize=13,fontweight='bold')\n",
    "plt.ylabel(\"f_2(x,y)\",fontsize=13,fontweight='bold')\n",
    "#plt.title(\"Pareto Front\",fontsize=15,fontweight='bold')\n",
    "plt.savefig(\"amosa-schaff.png\")"
   ]
  },
  {
   "cell_type": "code",
   "execution_count": 28,
   "metadata": {},
   "outputs": [
    {
     "name": "stdout",
     "output_type": "stream",
     "text": [
      "53\n"
     ]
    }
   ],
   "source": [
    "print(archive.size)\n",
    "end = time.time()\n",
    "minu=np.around((end-start)/60,0)\n",
    "sec=np.around((end-start)%60,0)"
   ]
  },
  {
   "cell_type": "code",
   "execution_count": 29,
   "metadata": {},
   "outputs": [
    {
     "name": "stdout",
     "output_type": "stream",
     "text": [
      "0.9289100170135498\n",
      "0.0 min 1.0 segundos\n"
     ]
    }
   ],
   "source": [
    "print(end-start)\n",
    "print(minu, \"min\", sec, \"segundos\")"
   ]
  }
 ],
 "metadata": {
  "kernelspec": {
   "display_name": "Python 3",
   "language": "python",
   "name": "python3"
  },
  "language_info": {
   "codemirror_mode": {
    "name": "ipython",
    "version": 3
   },
   "file_extension": ".py",
   "mimetype": "text/x-python",
   "name": "python",
   "nbconvert_exporter": "python",
   "pygments_lexer": "ipython3",
   "version": "3.6.9"
  }
 },
 "nbformat": 4,
 "nbformat_minor": 2
}

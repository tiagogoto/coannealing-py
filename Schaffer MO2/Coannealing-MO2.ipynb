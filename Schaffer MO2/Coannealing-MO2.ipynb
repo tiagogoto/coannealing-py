{
 "cells": [
  {
   "cell_type": "code",
   "execution_count": 1,
   "metadata": {},
   "outputs": [],
   "source": [
    "import numpy as np\n",
    "import math\n",
    "import matplotlib.pyplot as plt\n",
    "import time\n",
    "from scipy.special import expit"
   ]
  },
  {
   "cell_type": "code",
   "execution_count": 2,
   "metadata": {},
   "outputs": [],
   "source": [
    "def function(x):\n",
    "    nof=2\n",
    "    nov=1\n",
    "    sol=np.empty(nof)\n",
    "    if x<=1:\n",
    "        sol[0]=-x\n",
    "    elif 1<x<=3:\n",
    "        sol[0]=x-2\n",
    "    elif 3<x<=4:\n",
    "        sol[0]=4-x\n",
    "    else:\n",
    "        sol[0]=x-4\n",
    "        \n",
    "    sol[1]=(x-5)**2\n",
    "    return sol"
   ]
  },
  {
   "cell_type": "code",
   "execution_count": 3,
   "metadata": {},
   "outputs": [],
   "source": [
    "def res(x):\n",
    "    status=True\n",
    "    return status\n",
    "\n",
    "xmax=np.array([10])\n",
    "xmin=np.array([-5])"
   ]
  },
  {
   "cell_type": "code",
   "execution_count": 4,
   "metadata": {},
   "outputs": [],
   "source": [
    "def isdomina(x_i, x_j):\n",
    "    f_i=function(x_i)\n",
    "    f_j=function(x_j)\n",
    "    nof=f_j.size\n",
    "    flagless=0\n",
    "    flagequal=0\n",
    "    aux=None\n",
    "    for i in range(nof):\n",
    "        if f_i[i]<f_j[i]:\n",
    "            flagless=flagless+1\n",
    "        elif f_j[i]==f_i[i]:\n",
    "            flagequal=flagequal+1\n",
    "    if flagless+flagequal ==nof and flagless>0: #se sim o domina o corrente\n",
    "        aux=True\n",
    "    else:\n",
    "        aux=False\n",
    "    return aux"
   ]
  },
  {
   "cell_type": "code",
   "execution_count": 5,
   "metadata": {},
   "outputs": [],
   "source": [
    "def iarch(HL, SL, nov):\n",
    "    x_j=np.empty([nov])\n",
    "    archive=np.empty([0,nov])\n",
    "    x_i=np.random.rand(nov)\n",
    "    lines=0\n",
    "    r=0\n",
    "    while lines<(SL*2):\n",
    "        for i in range(0,nov):\n",
    "            x_j[i]=np.random.uniform(low=xmin[i], high=xmax[i], size=None)\n",
    "        if (res(x_j)) and isdomina(x_i, x_j) or r>20:\n",
    "            archive=np.vstack([archive, x_j])\n",
    "            r=0\n",
    "            lines=lines+1\n",
    "        else:\n",
    "            r= r+1\n",
    "    return archive"
   ]
  },
  {
   "cell_type": "code",
   "execution_count": 6,
   "metadata": {},
   "outputs": [],
   "source": [
    "def newsol(x_i, C):\n",
    "    nov=1\n",
    "    x_j=0\n",
    "    es=0\n",
    "    delr=10\n",
    "    while es==0:\n",
    "        rand=np.random.rand()\n",
    "        u=0\n",
    "        for i in range(C):\n",
    "            u=u+np.random.uniform(high=0.5, low=-0.5, size=None)\n",
    "        delta=u/C*delr*np.random.choice([-1,1])\n",
    "        x_j=x_i+delta\n",
    "        if x_j>xmax:\n",
    "            x_j=xmax\n",
    "        if x_j<xmin:\n",
    "            x_j=xmin\n",
    "        if res(x_j):\n",
    "            es=1\n",
    "        else:\n",
    "            es=0\n",
    "    return x_j"
   ]
  },
  {
   "cell_type": "code",
   "execution_count": 7,
   "metadata": {},
   "outputs": [],
   "source": [
    "def maxmin(sol):\n",
    "    nof=sol.shape[1]\n",
    "    R=np.empty(nof)\n",
    "    for i in range(0,nof):\n",
    "        R[i]=max(sol[i])-min(sol[i])\n",
    "    return R "
   ]
  },
  {
   "cell_type": "code",
   "execution_count": 8,
   "metadata": {},
   "outputs": [],
   "source": [
    "def delws(archive, sol, nof):\n",
    "    nov=archive.shape[1]\n",
    "    newarchive=np.empty([0,nov])\n",
    "    size=archive.shape[0]\n",
    "    lines=0\n",
    "    flag=np.empty(archive.shape[0])\n",
    "    #sol=np.empty([archive.shape[0], nof])\n",
    "    #for i in range(archive.shape[0]):\n",
    "        #sol[i]=function(archive[i])\n",
    "    while lines<size:\n",
    "        for i in range(0,size): \n",
    "            if lines != i:\n",
    "                cont=0\n",
    "                k=0\n",
    "                for col in range(0,nof): #verifica se é dominado ou não\n",
    "                    if sol[lines][col]<sol[i][col]:\n",
    "                        cont=cont+1\n",
    "                    else:\n",
    "                        k=k+1\n",
    "                if k==2:\n",
    "                    flag[lines]=False\n",
    "                    break\n",
    "                else: \n",
    "                    flag[lines]=True\n",
    "        lines=lines+1\n",
    "    for l in range(archive.shape[0]):\n",
    "        if flag[l]:\n",
    "             newarchive=np.vstack([newarchive, archive[l]])\n",
    "    return newarchive"
   ]
  },
  {
   "cell_type": "code",
   "execution_count": 9,
   "metadata": {},
   "outputs": [],
   "source": [
    "def clust(size, archive):\n",
    "    nof=archive.shape[1]\n",
    "    while archive.shape[0]>size:\n",
    "        linhas=archive.shape[0]\n",
    "        mm=np.empty(linhas)\n",
    "        deli=0\n",
    "        for u in range(1,linhas):\n",
    "            mm[u-1]=np.sqrt((archive[u-1]-archive[u])**2)\n",
    "        diff=800\n",
    "        ind=0\n",
    "        for i in range(0, mm.size):\n",
    "            if mm[i]<diff:\n",
    "                diff=mm[i]\n",
    "                ind=i\n",
    "        #ind=np.argmin(mm)\n",
    "        if ind!=0 and ind!=(mm.size-1):\n",
    "            if mm[ind+1]<= mm[ind-1]:\n",
    "                deli=ind+1\n",
    "            elif mm[ind-1]<=mm[ind+1]:\n",
    "                deli=ind\n",
    "        elif ind==(mm.size-1):\n",
    "            #lista=np.append(lista, ind-1)\n",
    "            deli=ind-1\n",
    "        else:\n",
    "            #lista=np.append(lista, ind+1)\n",
    "            deli=ind+1  \n",
    "        archive=np.delete(archive, deli, axis=0)   \n",
    "            \n",
    "    return archive"
   ]
  },
  {
   "cell_type": "code",
   "execution_count": 10,
   "metadata": {},
   "outputs": [],
   "source": [
    "def inc(x, archive):\n",
    "    aux=None\n",
    "    for i in range(archive.shape[0]):\n",
    "        j=0\n",
    "        for col in range(0,archive.shape[1]):\n",
    "            if x[col] == archive[i][col]:\n",
    "                j=j+1\n",
    "        if j == archive.shape[1]:\n",
    "            aux = True\n",
    "            break\n",
    "        else:\n",
    "            aux=False\n",
    "    return aux"
   ]
  },
  {
   "cell_type": "markdown",
   "metadata": {},
   "source": [
    "##### problema resolver um \n",
    "\n"
   ]
  },
  {
   "cell_type": "code",
   "execution_count": 11,
   "metadata": {},
   "outputs": [],
   "source": [
    "def maxdom(sola, solarchive, nof, R):\n",
    "    aux2=0\n",
    "    aux=np.ones([solarchive.shape[0], nof])\n",
    "    for i in range(solarchive.shape[0]):\n",
    "        for col in range(nof):\n",
    "            if sola[col]<=solarchive[i][col]:\n",
    "                aux[i]=0\n",
    "                break\n",
    "            else:\n",
    "                aux[i]=aux[i]*(sola[col]-solarchive[i][col])*R[col]\n",
    "    aux2=np.amax(aux)\n",
    "    \n",
    "    return aux2        \n",
    "            \n",
    "# se sola dominar uma variaável já pode parar e definir que deltadom=0\n"
   ]
  },
  {
   "cell_type": "code",
   "execution_count": 12,
   "metadata": {},
   "outputs": [],
   "source": [
    "def plotf(archive,nof,repeat):\n",
    "    lines=archive.shape[0]\n",
    "    nov=archive.shape[1]\n",
    "    evalu=np.empty([lines, nof])\n",
    "    for i in range(0,lines):\n",
    "        evalu[i]=function(archive[i])\n",
    "    ff1, ff2=evalu.T\n",
    "    plt.scatter(ff1, ff2)\n",
    "    plt.grid(b=None, color='grey', which='major', axis='both')\n",
    "    plt.xlabel(\"f1(x)\", fontsize=13, fontweight='bold')\n",
    "    plt.ylabel(\"f2(x)\", fontsize=13, fontweight='bold')\n",
    "    #plt.title(\"Frente de pareto\", fontsize=15, fontweight='bold')\n",
    "    nome=\"Coannealing-\"+str(repeat)+\".pdf\"\n",
    "    np.savetxt(\"Coannealing-archive-\"+str(repeat), archive, delimiter=\" \")\n",
    "    np.savetxt(\"Coannealing-sol-\"+str(repeat), evalu, delimiter=\" \")\n",
    "    plt.savefig(nome, format='pdf', depi=600)\n",
    "    plt.show()"
   ]
  },
  {
   "cell_type": "code",
   "execution_count": 13,
   "metadata": {},
   "outputs": [],
   "source": [
    "def coannealing(Tmax, Tmin, N, alpha, SL, HL, nof, nov):\n",
    "    archive=iarch(HL, SL, nov)\n",
    "    #archive=reo(archive,nov)\n",
    "    ale=np.random.choice(np.arange(archive.shape[0]))\n",
    "    x_i=archive[ale]\n",
    "    temp=Tmax\n",
    "    r=0\n",
    "    max_r=10\n",
    "    C=1\n",
    "    while temp>Tmin:\n",
    "        for ciclo in range(N):\n",
    "            x_j=newsol(x_i, C)\n",
    "            solarchive=np.zeros([archive.shape[0], nof])\n",
    "            soli=function(x_i)\n",
    "            solj=function(x_j)\n",
    "            #print(solj)\n",
    "            for i in range(archive.shape[0]):\n",
    "                solarchive[i]=function(archive[i])\n",
    "            R=maxmin(solarchive)\n",
    "            deltaE=maxdom(solj, solarchive, nof, R)-maxdom(soli, solarchive, nof, R)\n",
    "            p=np.random.rand()\n",
    "            prob=expit(-deltaE/temp)\n",
    "            if deltaE<=0 or p<prob:\n",
    "                x_i=x_j\n",
    "                soli=solj\n",
    "                aux=maxdom(solj,solarchive,nof,R)\n",
    "                \n",
    "                C=C-1\n",
    "                if C<=0:\n",
    "                    C=1\n",
    "                if aux<=0:\n",
    "                    #print(x_j)\n",
    "                    archive=np.vstack([archive, x_j])\n",
    "                    solarchive=np.vstack([solarchive, solj])\n",
    "                    #print(\"Adicionado\")\n",
    "                    if archive.shape[0]>SL:\n",
    "                        archive=delws(archive, solarchive, nof)\n",
    "                        archive=clust(HL, archive)\n",
    "                        #print(\"Adicionado\")\n",
    "                        if inc(x_i,archive):\n",
    "                            if r<max_r:\n",
    "                                archive=np.vstack([archive, x_i])\n",
    "                            else:\n",
    "                                ale=np.random.choice(np.arange(archive.shape[0]))\n",
    "                                x_i=archive[ale]\n",
    "                                r=r+1\n",
    "                        else:\n",
    "                            r=0\n",
    "            else:\n",
    "                \n",
    "                if C<=20:\n",
    "                    C=C+1\n",
    "        temp=temp*alpha\n",
    "        #print(archive.shape)\n",
    "        #plotf(archive, 2,1)\n",
    "        #archive=delws(archive, solarchive, nof)\n",
    "    return archive            "
   ]
  },
  {
   "cell_type": "code",
   "execution_count": 14,
   "metadata": {},
   "outputs": [
    {
     "data": {
      "image/png": "[encoded data removed]",
      "text/plain": [
       "<Figure size 432x288 with 1 Axes>"
      ]
     },
     "metadata": {
      "needs_background": "light"
     },
     "output_type": "display_data"
    },
    {
     "name": "stdout",
     "output_type": "stream",
     "text": [
      "CPU times: user 9.12 s, sys: 161 ms, total: 9.28 s\n",
      "Wall time: 9.13 s\n"
     ]
    }
   ],
   "source": [
    "%%time\n",
    "repeat=1\n",
    "cputime=np.zeros([repeat,2])\n",
    "for i in range(repeat):\n",
    "    Tmax=200\n",
    "    Tmin=0.1\n",
    "    N=100\n",
    "    alpha=0.85\n",
    "    HL=50\n",
    "    SL=100\n",
    "    nof=2\n",
    "    nov=1\n",
    "    start=time.time()\n",
    "    archive1=coannealing(Tmax,Tmin,N,alpha,SL,HL,nof,nov)\n",
    "    end=time.time()\n",
    "    plotf(archive1,nof, i)\n",
    "    cputime[i][0]=end-start\n",
    "    cputime[i][1]=cputime[i][0]/60\n",
    "#np.savetxt(\"tempo.csv\", cputime, delimiter=\",\")"
   ]
  },
  {
   "cell_type": "code",
   "execution_count": 15,
   "metadata": {},
   "outputs": [
    {
     "name": "stdout",
     "output_type": "stream",
     "text": [
      "(100, 1)\n"
     ]
    }
   ],
   "source": [
    "print(archive1.shape)"
   ]
  }
 ],
 "metadata": {
  "kernelspec": {
   "display_name": "Python 3",
   "language": "python",
   "name": "python3"
  },
  "language_info": {
   "codemirror_mode": {
    "name": "ipython",
    "version": 3
   },
   "file_extension": ".py",
   "mimetype": "text/x-python",
   "name": "python",
   "nbconvert_exporter": "python",
   "pygments_lexer": "ipython3",
   "version": "3.8.3"
  }
 },
 "nbformat": 4,
 "nbformat_minor": 4
}

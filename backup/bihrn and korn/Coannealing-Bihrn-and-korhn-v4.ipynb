{
 "cells": [
  {
   "cell_type": "code",
   "execution_count": 1,
   "metadata": {},
   "outputs": [],
   "source": [
    "import numpy as np\n",
    "import math\n",
    "import matplotlib.pyplot as plt\n",
    "import time\n",
    "from scipy.special import expit"
   ]
  },
  {
   "cell_type": "code",
   "execution_count": 2,
   "metadata": {},
   "outputs": [],
   "source": [
    "def function(x):\n",
    "    nof=2\n",
    "    sol=np.zeros(nof)\n",
    "    f1=4*x[0]**2 +4*x[1]**2\n",
    "    f2=(x[0]-5)**2+(x[1]-5)**2\n",
    "    sol[0]=f1\n",
    "    sol[1]=f2\n",
    "    return sol\n",
    "def res(x):\n",
    "    statu=None\n",
    "    g1=(x[0]-5)**2+x[1]**2 #<=25\n",
    "    g2=(x[0]-8)**2+(x[1]+3)**2 #>=7.7\n",
    "    if g1<=25 and g2>=7.7:\n",
    "        status=True\n",
    "    else:\n",
    "        status=False\n",
    "    return status"
   ]
  },
  {
   "cell_type": "code",
   "execution_count": 3,
   "metadata": {},
   "outputs": [],
   "source": [
    "xmax=np.array([5,3])\n",
    "xmin=np.array([0,0])\n",
    "fator=np.array([0.7,0.5])"
   ]
  },
  {
   "cell_type": "code",
   "execution_count": 4,
   "metadata": {},
   "outputs": [],
   "source": [
    "def isdomina(x_i, x_j):\n",
    "    f_i=function(x_i)\n",
    "    f_j=function(x_j)\n",
    "    nof=f_j.size\n",
    "    flagless=0\n",
    "    flagequal=0\n",
    "    aux=None\n",
    "    for i in range(nof):\n",
    "        if f_i[i]<f_j[i]:\n",
    "            flagless=flagless+1\n",
    "        elif f_j[i]==f_i[i]:\n",
    "            flagequal=flagequal+1\n",
    "    if flagless+flagequal ==nof and flagless>0: #se sim o domina o corrente\n",
    "        aux=True\n",
    "    else:\n",
    "        aux=False\n",
    "    return aux"
   ]
  },
  {
   "cell_type": "code",
   "execution_count": 5,
   "metadata": {},
   "outputs": [],
   "source": [
    "def iarch(HL, SL, nov):\n",
    "    x_j=np.empty([nov])\n",
    "    archive=np.empty([0,nov])\n",
    "    x_i=np.random.rand(nov)\n",
    "    lines=0\n",
    "    r=0\n",
    "    while lines<(SL*2):\n",
    "        for i in range(0,nov):\n",
    "            x_j[i]=np.random.uniform(low=xmin[i], high=xmax[i], size=None)\n",
    "        if (res(x_j)) and isdomina(x_i, x_j) or r>20 :\n",
    "            archive=np.vstack([archive, x_j])\n",
    "            r=0\n",
    "            lines=lines+1\n",
    "        else:\n",
    "            r= r+1\n",
    "    #hill climbing em torno de 20 no artigo diz que deve ser\n",
    "    iteraction=archive.shape[0]/1\n",
    "    cont=0\n",
    "    while cont<iteraction:\n",
    "        x_i=archive[cont]\n",
    "        for jj in range(archive.shape[0]):\n",
    "            if cont != jj:\n",
    "                if isdomina(x_i,archive[jj]):\n",
    "                    archive[jj]=newsol(archive[jj])\n",
    "        cont=cont+1\n",
    "    return archive"
   ]
  },
  {
   "cell_type": "code",
   "execution_count": 6,
   "metadata": {},
   "outputs": [],
   "source": [
    "def newsol(x_i):\n",
    "    nov=x_i.size\n",
    "    x_j=np.zeros(nov)\n",
    "    es=0\n",
    "    while es==0:\n",
    "        ind=np.random.randint(0,nov, size=None)\n",
    "        rand=np.random.rand()\n",
    "        b=0.25\n",
    "        if rand-0.5<0:\n",
    "            delta=b*math.log(1-2*math.fabs(rand-0.5))\n",
    "        else:\n",
    "            delta=-b*math.log(1-2*math.fabs(rand-0.5))\n",
    "        for j in range(0,nov):\n",
    "            if j!=ind:\n",
    "                x_j[j]=x_i[j]\n",
    "            else:\n",
    "                x_j[j]=x_i[j]+delta\n",
    "                if x_j[j]>xmax[j]:\n",
    "                    x_j[j]=xmax[j]\n",
    "                if x_j[j]<xmin[j]:\n",
    "                    x_j[j]=xmin[j]\n",
    "        if res(x_j):\n",
    "            es=1\n",
    "        else:\n",
    "            es=0\n",
    "    return x_j"
   ]
  },
  {
   "cell_type": "code",
   "execution_count": 7,
   "metadata": {},
   "outputs": [],
   "source": [
    "def plotf(archive,nof,repeat):\n",
    "    lines=archive.shape[0]\n",
    "    nov=archive.shape[1]\n",
    "    evalu=np.empty([lines, nof])\n",
    "    for i in range(0,lines):\n",
    "        evalu[i]=function(archive[i])\n",
    "    ff1, ff2=evalu.T\n",
    "    plt.scatter(ff1, ff2)\n",
    "    plt.grid(b=None, color='grey', which='major', axis='both')\n",
    "    plt.xlabel(\"f1(x)\", fontsize=13, fontweight='bold')\n",
    "    plt.ylabel(\"f2(x)\", fontsize=13, fontweight='bold')\n",
    "    #plt.title(\"Frente de pareto\", fontsize=15, fontweight='bold')\n",
    "    nome=\"Coannealing-\"+str(repeat)+\".pdf\"\n",
    "    np.savetxt(\"Coannealing-archive-\"+str(repeat), archive, delimiter=\" \")\n",
    "    np.savetxt(\"Coannealing-sol-\"+str(repeat), evalu, delimiter=\" \")\n",
    "    plt.savefig(nome, format='pdf', depi=600)\n",
    "    plt.show()"
   ]
  },
  {
   "cell_type": "code",
   "execution_count": 8,
   "metadata": {},
   "outputs": [],
   "source": [
    "def maxmin(sol):\n",
    "    nof=sol.shape[1]\n",
    "    R=np.empty(nof)\n",
    "    for i in range(0,nof):\n",
    "        R[i]=max(sol[i])-min(sol[i])\n",
    "    return R "
   ]
  },
  {
   "cell_type": "code",
   "execution_count": 9,
   "metadata": {},
   "outputs": [],
   "source": [
    "def delws(archive, sol, nof):\n",
    "    nov=archive.shape[1]\n",
    "    newarchive=np.empty([0,nov])\n",
    "    size=archive.shape[0]\n",
    "    lines=0\n",
    "    flag=np.empty(archive.shape[0])\n",
    "    #sol=np.empty([archive.shape[0], nof])\n",
    "    #for i in range(archive.shape[0]):\n",
    "        #sol[i]=function(archive[i])\n",
    "    while lines<size:\n",
    "        for i in range(0,size): \n",
    "            if lines != i:\n",
    "                cont=0\n",
    "                k=0\n",
    "                for col in range(0,nof): #verifica se é dominado ou não\n",
    "                    if sol[lines][col]<sol[i][col]:\n",
    "                        cont=cont+1\n",
    "                    else:\n",
    "                        k=k+1\n",
    "                if k==2:\n",
    "                    flag[lines]=False\n",
    "                    break\n",
    "                else: \n",
    "                    flag[lines]=True\n",
    "            \n",
    "        lines=lines+1\n",
    "    for l in range(archive.shape[0]):\n",
    "        if flag[l]:\n",
    "             newarchive=np.vstack([newarchive, archive[l]])\n",
    "       \n",
    "    return newarchive"
   ]
  },
  {
   "cell_type": "code",
   "execution_count": 10,
   "metadata": {},
   "outputs": [],
   "source": [
    "def reo(archive,nof):\n",
    "    linhas=archive.shape[0]\n",
    "    nov=archive.shape[1]\n",
    "    archive2=np.zeros([linhas, nov])\n",
    "    cont=0\n",
    "    while archive.shape[0]>0:\n",
    "        raz=np.empty(linhas)\n",
    "        sol=np.empty([archive.shape[0],nof])\n",
    "        linhas=archive.shape[0]\n",
    "        maxr=0\n",
    "        posi=0\n",
    "        for i in range(0,linhas):\n",
    "            sol[i]=function(archive[i])\n",
    "            raz[i]=sol[i][0]/sol[i][1]\n",
    "            if raz[i]>maxr:\n",
    "                maxr=raz[i]\n",
    "                posi=i\n",
    "        #archive2=np.append(archive2, archive[posi], axis=1)\n",
    "        for col in range(0, nof):\n",
    "            archive2[cont][col]=archive[posi][col]\n",
    "        cont=cont+1\n",
    "        archive=np.delete(archive, posi, axis=0)\n",
    "        #raz=np.delete(raz, posi)\n",
    "    #print(archive.shape)\n",
    "    #print(archive2.shape)\n",
    "    return archive2"
   ]
  },
  {
   "cell_type": "code",
   "execution_count": 11,
   "metadata": {},
   "outputs": [],
   "source": [
    "def clust(size, archive):\n",
    "    nof=archive.shape[1]\n",
    "    while archive.shape[0]>size:\n",
    "        linhas=archive.shape[0]\n",
    "        mm=np.empty(linhas)\n",
    "        deli=0\n",
    "        for u in range(1,linhas):\n",
    "            mm[u-1]=np.sqrt((archive[u-1][0]-archive[u][0])**2+(archive[u-1][1]-archive[u][1])**2)\n",
    "        diff=800\n",
    "        ind=0\n",
    "        for i in range(0, mm.size):\n",
    "            if mm[i]<diff:\n",
    "                diff=mm[i]\n",
    "                ind=i\n",
    "        #ind=np.argmin(mm)\n",
    "        if ind!=0 and ind!=(mm.size-1):\n",
    "            if mm[ind+1]<= mm[ind-1]:\n",
    "                deli=ind+1\n",
    "            elif mm[ind-1]<=mm[ind+1]:\n",
    "                deli=ind\n",
    "        elif ind==(mm.size-1):\n",
    "            #lista=np.append(lista, ind-1)\n",
    "            deli=ind-1\n",
    "        else:\n",
    "            #lista=np.append(lista, ind+1)\n",
    "            deli=ind+1  \n",
    "        archive=np.delete(archive, deli, axis=0)   \n",
    "            \n",
    "    return archive"
   ]
  },
  {
   "cell_type": "code",
   "execution_count": 12,
   "metadata": {},
   "outputs": [],
   "source": [
    "def inc(x, archive):\n",
    "    aux=None\n",
    "    for i in range(archive.shape[0]):\n",
    "        j=0\n",
    "        for col in range(0,archive.shape[1]):\n",
    "            if x[col] == archive[i][col]:\n",
    "                j=j+1\n",
    "        if j == archive.shape[1]:\n",
    "            aux = True\n",
    "            break\n",
    "        else:\n",
    "            aux=False\n",
    "            \n",
    "    return aux"
   ]
  },
  {
   "cell_type": "code",
   "execution_count": 13,
   "metadata": {},
   "outputs": [],
   "source": [
    "def maxdom(sola, solarchive, nof,R):\n",
    "    aux=np.zeros(solarchive.shape[0])\n",
    "    for i in range(solarchive.shape[0]):\n",
    "        for col in range(nof):\n",
    "            aux[i]=aux[i]*(sola[col]-solarchive[i][col])*R[col]\n",
    "    return np.amax(aux)\n"
   ]
  },
  {
   "cell_type": "code",
   "execution_count": 14,
   "metadata": {},
   "outputs": [],
   "source": [
    "def coannealing(Tmax, Tmin, N, alpha, SL, HL, nof, nov):\n",
    "    archive=iarch(HL, SL, nov)\n",
    "    archive=reo(archive,nof)\n",
    "    ale=np.random.choice(np.arange(archive.shape[0]))\n",
    "    x_i=archive[ale]\n",
    "    temp=Tmax\n",
    "    r=0\n",
    "    max_r=5\n",
    "    while temp>Tmin:\n",
    "        for ciclo in range(N):\n",
    "            x_j=newsol(x_i)\n",
    "            solarchive=np.zeros(archive.shape)\n",
    "            soli=function(x_i)\n",
    "            solj=function(x_j)\n",
    "            for i in range(archive.shape[0]):\n",
    "                solarchive[i]=function(archive[i])\n",
    "            R=maxmin(solarchive)\n",
    "            deltaE=maxdom(solj, solarchive, nof, R)-maxdom(soli, solarchive, nof, R)\n",
    "            p=np.random.rand()\n",
    "            prob=expit(-deltaE/temp)\n",
    "            if deltaE<=0 or p<prob:\n",
    "                x_i=x_j\n",
    "                soli=solj\n",
    "                aux=maxdom(solj,solarchive,nof,R)\n",
    "                if aux<=0:\n",
    "                    razc=soli[1]/soli[0]\n",
    "                    raz=np.empty(solarchive.shape[0])\n",
    "                    for u in range(archive.shape[0]):\n",
    "                        raz[u]=solarchive[u][1]/solarchive[u][0]\n",
    "                        if u!=0 and razc<raz[u-1] and razc>raz[u]:\n",
    "                            archive=np.insert(archive, u, x_j, axis=0)\n",
    "                            solarchive=np.insert(archive,u,x_j, axis=0)\n",
    "                    #archive=np.vstack([archive, x_j])\n",
    "                    #solarchive=np.vstack([solarchive, solj])\n",
    "                    if archive.shape[0]>HL:\n",
    "                        archive=delws(archive, solarchive, nof)\n",
    "                        archive=clust(HL, archive)\n",
    "                        if inc(x_i,archive):\n",
    "                            if r<max_r:\n",
    "                                archive=np.vstack([archive, x_i])\n",
    "                            else:\n",
    "                                ale=np.random.choice(np.arange(archive.shape[0]))\n",
    "                                x_i=archive[ale]\n",
    "                                r=r+1\n",
    "                        else:\n",
    "                            r=0\n",
    "        temp=temp*alpha\n",
    "    return archive\n",
    "                        "
   ]
  },
  {
   "cell_type": "code",
   "execution_count": 15,
   "metadata": {},
   "outputs": [
    {
     "name": "stderr",
     "output_type": "stream",
     "text": [
      "/home/tiago/.local/lib/python3.6/site-packages/ipykernel_launcher.py:29: RuntimeWarning: divide by zero encountered in double_scalars\n",
      "/home/tiago/.local/lib/python3.6/site-packages/ipykernel_launcher.py:26: RuntimeWarning: divide by zero encountered in double_scalars\n"
     ]
    },
    {
     "data": {
      "image/png": "[encoded data removed]",
      "text/plain": [
       "<Figure size 432x288 with 1 Axes>"
      ]
     },
     "metadata": {
      "needs_background": "light"
     },
     "output_type": "display_data"
    },
    {
     "name": "stdout",
     "output_type": "stream",
     "text": [
      "CPU times: user 20.4 s, sys: 195 ms, total: 20.6 s\n",
      "Wall time: 20.4 s\n"
     ]
    }
   ],
   "source": [
    "%%time\n",
    "repeat=1\n",
    "cputime=np.zeros([repeat,2])\n",
    "for i in range(repeat):\n",
    "    Tmax=100\n",
    "    Tmin=0.1\n",
    "    N=300\n",
    "    alpha=0.85\n",
    "    HL=100\n",
    "    SL=200\n",
    "    nof=2\n",
    "    nov=2\n",
    "    start=time.time()\n",
    "    archive1=coannealing(Tmax,Tmin,N,alpha,SL,HL,nof,nov)\n",
    "    end=time.time()\n",
    "    plotf(archive1,nof, i)\n",
    "    cputime[i][0]=end-start\n",
    "    cputime[i][1]=cputime[i][0]/60\n",
    "#np.savetxt(\"tempo.csv\", cputime, delimiter=\",\")"
   ]
  },
  {
   "cell_type": "code",
   "execution_count": 16,
   "metadata": {},
   "outputs": [],
   "source": [
    "#plotf(archive1,2,1)"
   ]
  },
  {
   "cell_type": "code",
   "execution_count": 17,
   "metadata": {},
   "outputs": [
    {
     "ename": "TypeError",
     "evalue": "iarch() missing 3 required positional arguments: 'HL', 'SL', and 'nov'",
     "output_type": "error",
     "traceback": [
      "\u001b[0;31m---------------------------------------------------------------------------\u001b[0m",
      "\u001b[0;31mTypeError\u001b[0m                                 Traceback (most recent call last)",
      "\u001b[0;32m<ipython-input-17-43c0eb648c54>\u001b[0m in \u001b[0;36m<module>\u001b[0;34m\u001b[0m\n\u001b[0;32m----> 1\u001b[0;31m \u001b[0mficheiro\u001b[0m\u001b[0;34m=\u001b[0m\u001b[0miarch\u001b[0m\u001b[0;34m(\u001b[0m\u001b[0;34m)\u001b[0m\u001b[0;34m\u001b[0m\u001b[0;34m\u001b[0m\u001b[0m\n\u001b[0m",
      "\u001b[0;31mTypeError\u001b[0m: iarch() missing 3 required positional arguments: 'HL', 'SL', and 'nov'"
     ]
    }
   ],
   "source": [
    "ficheiro=iarch()"
   ]
  }
 ],
 "metadata": {
  "kernelspec": {
   "display_name": "Python 3",
   "language": "python",
   "name": "python3"
  },
  "language_info": {
   "codemirror_mode": {
    "name": "ipython",
    "version": 3
   },
   "file_extension": ".py",
   "mimetype": "text/x-python",
   "name": "python",
   "nbconvert_exporter": "python",
   "pygments_lexer": "ipython3",
   "version": "3.7.4"
  }
 },
 "nbformat": 4,
 "nbformat_minor": 4
}

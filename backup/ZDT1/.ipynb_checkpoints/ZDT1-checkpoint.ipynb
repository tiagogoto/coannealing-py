{
 "cells": [
  {
   "cell_type": "code",
   "execution_count": 20,
   "metadata": {},
   "outputs": [],
   "source": [
    "import numpy as np\n",
    "import matplotlib.pyplot as plt\n",
    "from scipy.special import expit"
   ]
  },
  {
   "cell_type": "code",
   "execution_count": 14,
   "metadata": {},
   "outputs": [],
   "source": [
    "def function(x):\n",
    "        nof = 2\n",
    "        nov = 3\n",
    "        sol = np.zeros(nof)\n",
    "        sol[0] = x[0] \n",
    "        aux = 0\n",
    "        for i in range(1, 29):\n",
    "            aux += x[i]\n",
    "        g = 1 + 9 / 29 * aux\n",
    "        h = 1 - np.sqrt(sol[0] / g)\n",
    "        sol[1] = g*h\n",
    "    \n",
    "        return sol        "
   ]
  },
  {
   "cell_type": "code",
   "execution_count": null,
   "metadata": {},
   "outputs": [],
   "source": [
    "def restriction(x):\n",
    "    aux =True\n",
    "    \n",
    "    return aux"
   ]
  },
  {
   "cell_type": "code",
   "execution_count": 17,
   "metadata": {},
   "outputs": [],
   "source": [
    "def newsolution(xi, Ci, minv, maxv ):\n",
    "    nov = len(xi)\n",
    "    delr = 1\n",
    "    xj = zeros([nov])\n",
    "    while restriction()\n",
    "    aux = 0\n",
    "    rand_ind = np.random.choice([]) # pick up one variable randomly\n",
    "    for i in range(0, Ci[rand_ind]):\n",
    "        aux +=  np.random.uniform(high=0.5, low=-0.5, size=None)\n",
    "    delta = aux/Ci[rand_ind] * delr * np.random.choice([-1,1])\n",
    "    xj = xi + delta\n",
    "    \n",
    "    \n",
    "    \n",
    "    \n",
    "    \n",
    "    return xj\n",
    "    "
   ]
  },
  {
   "cell_type": "code",
   "execution_count": 18,
   "metadata": {},
   "outputs": [],
   "source": [
    "def maxmin(sol):\n",
    "    nof = sol.shape[1]\n",
    "    R = np.zeros([nof])\n",
    "    for i in range(0, nof):\n",
    "        R[i] = max(sol[i] - min(sol[i]))\n",
    "    return R\n",
    "    "
   ]
  },
  {
   "cell_type": "code",
   "execution_count": null,
   "metadata": {},
   "outputs": [],
   "source": [
    "def isdomina(x_i, x_j):\n",
    "    f_i=function(x_i)\n",
    "    f_j=function(x_j)\n",
    "    nof=f_j.size\n",
    "    flagless=0\n",
    "    flagequal=0\n",
    "    aux=None\n",
    "    for i in range(nof):\n",
    "        if f_i[i]<f_j[i]:\n",
    "            flagless=flagless+1\n",
    "        elif f_j[i]==f_i[i]:\n",
    "            flagequal=flagequal+1\n",
    "    if flagless+flagequal == nof and flagless>0: #se sim o domina o corrente\n",
    "        aux=True\n",
    "    else:\n",
    "        aux=False\n",
    "    return aux"
   ]
  },
  {
   "cell_type": "code",
   "execution_count": null,
   "metadata": {},
   "outputs": [],
   "source": [
    "def clust(size, archive):\n",
    "    \n",
    "    \n",
    "    \n",
    "    return newarchive"
   ]
  },
  {
   "cell_type": "code",
   "execution_count": 19,
   "metadata": {},
   "outputs": [],
   "source": [
    "def maxdom(sola, solarchive, nof, R):\n",
    "    aux = 0\n",
    "    aux2 = np.ones([solarchive.shape[0], nof])\n",
    "    for i in range(solarchive.shape[0]):\n",
    "        for j in range(nof):\n",
    "            if sola[j] <= solarchive[i][j]:\n",
    "                aux2[1] = 0\n",
    "                break\n",
    "            else:\n",
    "                aux2[i] = aux2[i]*(sola[j] - solarchive[i][j])*R[j]\n",
    "    aux = np.max(aux)\n",
    "    return aux\n"
   ]
  },
  {
   "cell_type": "code",
   "execution_count": null,
   "metadata": {},
   "outputs": [],
   "source": [
    "def Coanneling(Tmax, Tmin, alpha, N, nof, nov, SL, HL, minv, maxv):\n",
    "    temp=Tmax\n",
    "    \n",
    "    archive = \n",
    "    solarchive = \n",
    "    for lin inh range(HL):\n",
    "        solarchive[lin] = function(archive[lin][:])\n",
    "    \n",
    "    \n",
    "    rand_xi = np.random.choice([0, HL]) # choice a randomly a solution from archive\n",
    "    xi = archive[rand_i]     \n",
    "    soli = solarchive[rand_i]   # current solution\n",
    "    \n",
    "    \n",
    "    max_r = 10 # maximum r \n",
    "    while temp > Tmin:\n",
    "        while iteration < N:\n",
    "            \n",
    "            \n",
    "            [xj, rand_index] = newsolution(xi, C)\n",
    "            solj = function(xj)\n",
    "            deltaE = maxdom(solj, solarchive, nof, R) - maxdom(soli, solarchive, nof, R)\n",
    "            p = np.random.rand()\n",
    "            prob = expit(-deltaE/temp)\n",
    "            \n",
    "            if deltaE < = 0 or p<prob:\n",
    "                xi = xj\n",
    "                soli = solj\n",
    "                \n",
    "                aux = maxdom(solj,  )\n",
    "            \n",
    "            \n",
    "            \n",
    "            \n",
    "            \n",
    "\n",
    "\n",
    "\n",
    "    return archive"
   ]
  },
  {
   "cell_type": "code",
   "execution_count": null,
   "metadata": {},
   "outputs": [],
   "source": []
  }
 ],
 "metadata": {
  "kernelspec": {
   "display_name": "Python 3",
   "language": "python",
   "name": "python3"
  },
  "language_info": {
   "codemirror_mode": {
    "name": "ipython",
    "version": 3
   },
   "file_extension": ".py",
   "mimetype": "text/x-python",
   "name": "python",
   "nbconvert_exporter": "python",
   "pygments_lexer": "ipython3",
   "version": "3.8.5"
  }
 },
 "nbformat": 4,
 "nbformat_minor": 4
}
